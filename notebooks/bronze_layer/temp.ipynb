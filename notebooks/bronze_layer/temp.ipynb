{
 "cells": [
  {
   "cell_type": "code",
   "execution_count": 0,
   "metadata": {
    "application/vnd.databricks.v1+cell": {
     "cellMetadata": {},
     "inputWidgets": {},
     "nuid": "2ddb28c3-62ad-426f-9f27-333f7751cde2",
     "showTitle": false,
     "tableResultSettingsMap": {},
     "title": ""
    }
   },
   "outputs": [],
   "source": [
    "import requests\n",
    "\n",
    "# Replace with your API endpoint\n",
    "lat = \n",
    "lon = \n",
    "start = \n",
    "end =\n",
    "api_key = \n",
    "\n",
    "api_url = f\"https://history.openweathermap.org/data/2.5/history/city?lat=40.71&lon=-74.01&type=hour&start=1692381913&end=1692385513&appid=b1fd6e14799699504191b6bdbcadfc35\"\n",
    "response = requests.get(api_url)\n",
    "data = response.json()\n",
    "\n",
    "df = spark.createDataFrame(data)\n",
    "display(df)"
   ]
  },
  {
   "cell_type": "code",
   "execution_count": 0,
   "metadata": {
    "application/vnd.databricks.v1+cell": {
     "cellMetadata": {
      "byteLimit": 2048000,
      "rowLimit": 10000
     },
     "inputWidgets": {},
     "nuid": "d98090ae-2a27-4c57-9abd-c305e7bc5376",
     "showTitle": false,
     "tableResultSettingsMap": {},
     "title": ""
    }
   },
   "outputs": [],
   "source": [
    "import requests\n",
    "\n",
    "#api = \"https://api.openweathermap.org/data/2.5/weather?lat=40.71&lon=-74.01&appid=b1fd6e14799699504191b6bdbcadfc35\"\n",
    "api = \"https://history.openweathermap.org/data/2.5/history/city?lat=40.71&lon=-74.01&type=hour&start=1692381913&end=1692385513&appid=b1fd6e14799699504191b6bdbcadfc35\"\n",
    "response = requests.get(api)\n",
    "data = response.json()\n",
    "\n",
    "data"
   ]
  },
  {
   "cell_type": "code",
   "execution_count": 0,
   "metadata": {
    "application/vnd.databricks.v1+cell": {
     "cellMetadata": {},
     "inputWidgets": {},
     "nuid": "57fdce6a-eebd-49b3-9308-0b1284cb7a63",
     "showTitle": false,
     "tableResultSettingsMap": {},
     "title": ""
    }
   },
   "outputs": [],
   "source": []
  }
 ],
 "metadata": {
  "application/vnd.databricks.v1+notebook": {
   "computePreferences": null,
   "dashboards": [],
   "environmentMetadata": {
    "base_environment": "",
    "environment_version": "2"
   },
   "inputWidgetPreferences": null,
   "language": "python",
   "notebookMetadata": {
    "pythonIndentUnit": 4
   },
   "notebookName": "temp",
   "widgets": {}
  },
  "language_info": {
   "name": "python"
  }
 },
 "nbformat": 4,
 "nbformat_minor": 0
}
