{
 "cells": [
  {
   "cell_type": "markdown",
   "metadata": {
    "application/vnd.databricks.v1+cell": {
     "cellMetadata": {},
     "inputWidgets": {},
     "nuid": "18814349-4e8a-4593-9a94-59f64a59c521",
     "showTitle": false,
     "tableResultSettingsMap": {},
     "title": ""
    }
   },
   "source": [
    "## Downloading Dataset ##"
   ]
  },
  {
   "cell_type": "code",
   "execution_count": 0,
   "metadata": {
    "application/vnd.databricks.v1+cell": {
     "cellMetadata": {
      "byteLimit": 2048000,
      "rowLimit": 10000
     },
     "inputWidgets": {},
     "nuid": "7493eed8-3574-47ab-b570-3cd4472bda17",
     "showTitle": false,
     "tableResultSettingsMap": {},
     "title": ""
    }
   },
   "outputs": [],
   "source": [
    "# https://d37ci6vzurychx.cloudfront.net/trip-data/yellow_tripdata_2024-01.parquet\n",
    "\n",
    "# https://d37ci6vzurychx.cloudfront.net/trip-data/green_tripdata_2024-01.parquet\n",
    "\n",
    "# https://d37ci6vzurychx.cloudfront.net/trip-data/fhv_tripdata_2024-01.parquet\n",
    "\n",
    "# https://d37ci6vzurychx.cloudfront.net/trip-data/fhvhv_tripdata_2024-02.parquet"
   ]
  },
  {
   "cell_type": "code",
   "execution_count": 0,
   "metadata": {
    "application/vnd.databricks.v1+cell": {
     "cellMetadata": {
      "byteLimit": 2048000,
      "implicitDf": true,
      "rowLimit": 10000
     },
     "inputWidgets": {},
     "nuid": "bf1929d5-1e49-4036-be87-86970ccf338e",
     "showTitle": false,
     "tableResultSettingsMap": {},
     "title": ""
    }
   },
   "outputs": [],
   "source": [
    "%sql\n",
    "create schema if not exists nyc_cleansed"
   ]
  },
  {
   "cell_type": "code",
   "execution_count": 0,
   "metadata": {
    "application/vnd.databricks.v1+cell": {
     "cellMetadata": {
      "byteLimit": 2048000,
      "rowLimit": 10000
     },
     "collapsed": true,
     "inputWidgets": {},
     "nuid": "73453ea9-11f2-4c30-b978-0e5525027814",
     "showTitle": false,
     "tableResultSettingsMap": {},
     "title": ""
    }
   },
   "outputs": [],
   "source": [
    "%run ../utility/read_write_util"
   ]
  },
  {
   "cell_type": "code",
   "execution_count": 0,
   "metadata": {
    "application/vnd.databricks.v1+cell": {
     "cellMetadata": {
      "byteLimit": 2048000,
      "rowLimit": 10000
     },
     "inputWidgets": {},
     "nuid": "d7803f53-0a15-4ffa-939b-5b32ef5e8b03",
     "showTitle": false,
     "tableResultSettingsMap": {},
     "title": ""
    }
   },
   "outputs": [],
   "source": [
    "import requests\n",
    "from datetime import datetime\n",
    "\n",
    "\n",
    "# Example: Get all months of 2024\n",
    "base_url = \"https://d37ci6vzurychx.cloudfront.net/trip-data/\"\n",
    "base_dbfs = \"/Volumes/workspace/nyc_cleansed/dataset/NYC/trip-data/\"\n",
    "\n",
    "files_urls = {\n",
    "\n",
    "    \"yellow\" : [f\"{base_url}yellow_tripdata_2024-{month:02}.parquet\" for month in range(1,13)],\n",
    "    \"green\" : [f\"{base_url}green_tripdata_2024-{month:02}.parquet\" for month in range(1,13)],\n",
    "    \"fhv\" : [f\"{base_url}fhv_tripdata_2024-{month:02}.parquet\" for month in range(1,13)],\n",
    "    \"fhvhv\" : [f\"{base_url}fhvhv_tripdata_2024-{month:02}.parquet\" for month in range(1,13)]\n",
    "\n",
    "}\n",
    "\n",
    "base_urls = {\n",
    "    \"yellow\" : f\"{base_dbfs}yellow/\",\n",
    "    \"green\" : f\"{base_dbfs}green/\",\n",
    "    \"fhv\" : f\"{base_dbfs}fhv/\",\n",
    "    \"fhvhv\" : f\"{base_dbfs}fhvhv/\"\n",
    "}\n",
    "\n",
    "for _file in files_urls:\n",
    "    print(f\"================================= Loading : {_file}=================================\")\n",
    "    for _file_url in files_urls[_file]:\n",
    "        file_copy(_file_url , base_urls[_file] + _file_url.split('/')[-1]) \n",
    "    print(f\"================================= Loaded : {_file}=================================\")"
   ]
  },
  {
   "cell_type": "code",
   "execution_count": 0,
   "metadata": {
    "application/vnd.databricks.v1+cell": {
     "cellMetadata": {
      "byteLimit": 2048000,
      "rowLimit": 10000
     },
     "inputWidgets": {},
     "nuid": "b1aa1b30-68b2-4ef6-ab3f-470086fb568c",
     "showTitle": false,
     "tableResultSettingsMap": {},
     "title": ""
    }
   },
   "outputs": [],
   "source": [
    "data_sources = base_urls\n",
    "\n",
    "data_sources"
   ]
  },
  {
   "cell_type": "code",
   "execution_count": 0,
   "metadata": {
    "application/vnd.databricks.v1+cell": {
     "cellMetadata": {
      "byteLimit": 2048000,
      "rowLimit": 10000
     },
     "inputWidgets": {},
     "nuid": "85be600e-da73-4b9f-98a5-ef43194e31a8",
     "showTitle": false,
     "tableResultSettingsMap": {},
     "title": ""
    }
   },
   "outputs": [],
   "source": [
    "# Reading Data into DataFrames\n",
    "\n",
    "read_options = {\n",
    "    \"header\": \"true\",\n",
    "    \"inferSchema\": \"true\"\n",
    "}\n",
    "\n",
    "for _data in data_sources:\n",
    "    globals()[f\"{_data}_taxi_df\"] = read_data(source_file_path = data_sources[_data],\n",
    "                                              source_file_format='parquet',\n",
    "                                              read_options=read_options)\n",
    "                                              \n"
   ]
  },
  {
   "cell_type": "code",
   "execution_count": 0,
   "metadata": {
    "application/vnd.databricks.v1+cell": {
     "cellMetadata": {
      "byteLimit": 2048000,
      "rowLimit": 10000
     },
     "inputWidgets": {},
     "nuid": "c5fdb1fb-3c0c-44c3-a383-ec247276d758",
     "showTitle": false,
     "tableResultSettingsMap": {},
     "title": ""
    }
   },
   "outputs": [],
   "source": [
    "display(fhvhv_taxi_df)"
   ]
  },
  {
   "cell_type": "code",
   "execution_count": 0,
   "metadata": {
    "application/vnd.databricks.v1+cell": {
     "cellMetadata": {
      "byteLimit": 2048000,
      "rowLimit": 10000
     },
     "inputWidgets": {},
     "nuid": "1936f96a-02f8-4de3-b364-801089502a3c",
     "showTitle": false,
     "tableResultSettingsMap": {},
     "title": ""
    }
   },
   "outputs": [],
   "source": [
    "# writing dataframe to table\n",
    "\n",
    "for _data in data_sources:\n",
    "\n",
    "    write_data(\n",
    "        df = globals()[f\"{_data}_taxi_df\"],\n",
    "        target_file_path = f\"nyc_cleansed.{_data}_taxi\",\n",
    "        target_file_format='delta',\n",
    "        mode_type='overwrite'\n",
    "    \n",
    "    )\n",
    "\n",
    "\n"
   ]
  },
  {
   "cell_type": "code",
   "execution_count": 0,
   "metadata": {
    "application/vnd.databricks.v1+cell": {
     "cellMetadata": {
      "byteLimit": 2048000,
      "implicitDf": true,
      "rowLimit": 10000
     },
     "inputWidgets": {},
     "nuid": "2ea80f8e-9749-4691-a7d7-3331a0848d00",
     "showTitle": false,
     "tableResultSettingsMap": {},
     "title": ""
    }
   },
   "outputs": [],
   "source": [
    "%sql\n",
    "select * from nyc_cleansed.yellow_taxi "
   ]
  },
  {
   "cell_type": "code",
   "execution_count": 0,
   "metadata": {
    "application/vnd.databricks.v1+cell": {
     "cellMetadata": {},
     "inputWidgets": {},
     "nuid": "16fa2a76-ac07-4244-8f69-724e46516f82",
     "showTitle": false,
     "tableResultSettingsMap": {},
     "title": ""
    }
   },
   "outputs": [],
   "source": []
  }
 ],
 "metadata": {
  "application/vnd.databricks.v1+notebook": {
   "computePreferences": {
    "hardware": {
     "accelerator": null,
     "gpuPoolId": null,
     "memory": null
    }
   },
   "dashboards": [],
   "environmentMetadata": {
    "base_environment": "",
    "environment_version": "2"
   },
   "inputWidgetPreferences": null,
   "language": "python",
   "notebookMetadata": {
    "mostRecentlyExecutedCommandWithImplicitDF": {
     "commandId": 8346130082079216,
     "dataframes": [
      "_sqldf"
     ]
    },
    "pythonIndentUnit": 4
   },
   "notebookName": "data_ingest",
   "widgets": {}
  },
  "language_info": {
   "name": "python"
  }
 },
 "nbformat": 4,
 "nbformat_minor": 0
}
